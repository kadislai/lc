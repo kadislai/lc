{
 "cells": [
  {
   "cell_type": "code",
   "execution_count": 5,
   "metadata": {},
   "outputs": [],
   "source": [
    "import subprocess\n",
    "from pydub import AudioSegment\n",
    "import math\n",
    "import openai\n",
    "import glob\n",
    "import os"
   ]
  },
  {
   "cell_type": "code",
   "execution_count": 7,
   "metadata": {},
   "outputs": [],
   "source": [
    "def extract_audio_from_video(video_path, audio_path):\n",
    "    command = [\n",
    "        \"ffmpeg\",\n",
    "        \"-i\",\n",
    "        video_path,\n",
    "        \"-vn\",\n",
    "        audio_path,\n",
    "    ]\n",
    "    subprocess.run(command)\n",
    "\n",
    "\n",
    "def cut_audio_in_chunks(audio_path, chunk_size, chunks_folder):\n",
    "    track = AudioSegment.from_mp3(audio_path)\n",
    "    chunk_len = chunk_size * 60 * 1000\n",
    "    chunks = math.ceil(len(track) / chunk_len)\n",
    "    for i in range(chunks):\n",
    "        start_time = i * chunk_len\n",
    "        end_time = (i + 1) * chunk_len\n",
    "        chunk = track[start_time:end_time]\n",
    "        chunk.export(\n",
    "            f\"./{chunks_folder}/chunk_{i}.mp3\",\n",
    "            format=\"mp3\",\n",
    "        )\n",
    "\n",
    "\n",
    "def transcribe_chunks(chunk_folder, file_name):\n",
    "    files = glob.glob(f\"{chunk_folder}/*.mp3\")\n",
    "    save_path = os.path.join(chunk_folder, file_name)\n",
    "    for file in files:\n",
    "        with open(file, \"rb\") as audio_file, open(save_path, \"a\") as text_file:\n",
    "            transcript = openai.Audio.transcribe(\n",
    "                \"whisper-1\",\n",
    "                audio_file,\n",
    "            )\n",
    "            text_file.write(transcript[\"text\"])"
   ]
  },
  {
   "cell_type": "code",
   "execution_count": 8,
   "metadata": {},
   "outputs": [
    {
     "name": "stdout",
     "output_type": "stream",
     "text": [
      "['/home/kskim/summarygen/fastcampus_video/모두를 위한 ChatGPT UP! VOD_2강 - GPT 시리즈와 발전 과정.mp4', '/home/kskim/summarygen/fastcampus_video/모두를 위한 ChatGPT UP! VOD_4강 - Auto GPT 더 유용하게(활용법).mp4', '/home/kskim/summarygen/fastcampus_video/모두를 위한 ChatGPT UP! VOD_4강 - 서비스 관점에서 ChatGPT의 기능적 보완을 위한 플러그인 제작(실습).mp4', '/home/kskim/summarygen/fastcampus_video/모두를 위한 ChatGPT UP! VOD_3강 - ChatGPT와 그 생태계(2).mp4', '/home/kskim/summarygen/fastcampus_video/모두를 위한 ChatGPT UP! VOD_3강 - GPT에게 일을 시킬 때 주의해야 하는 부분.mp4', '/home/kskim/summarygen/fastcampus_video/모두를 위한 ChatGPT UP! VOD_4강 - Langchain 개념과 실습.mp4', '/home/kskim/summarygen/fastcampus_video/모두를 위한 ChatGPT UP! VOD_3강 - ChatGPT와 그 생태계(1).mp4', '/home/kskim/summarygen/fastcampus_video/모두를 위한 ChatGPT UP! VOD_2강 - Auto GPT 심화.mp4', '/home/kskim/summarygen/fastcampus_video/모두를 위한 ChatGPT UP! VOD_2강 - Chat GPT를 활용한 다양한 시도와 원칙.mp4', '/home/kskim/summarygen/fastcampus_video/모두를 위한 ChatGPT UP! VOD_1강 - Auto GPT에 대한 간략한 소개와 활용 방법 전반.mp4', '/home/kskim/summarygen/fastcampus_video/모두를 위한 ChatGPT UP! VOD_4강 - Next GPT를 향한 움직임들.mp4', '/home/kskim/summarygen/fastcampus_video/모두를 위한 ChatGPT UP! VOD_2강 - GPT에게 일 잘 시키는 방법.mp4', '/home/kskim/summarygen/fastcampus_video/모두를 위한 ChatGPT UP! VOD_1강 - Chat GPT의 원리와 Chat GPT에 열광하는 이유.mp4', '/home/kskim/summarygen/fastcampus_video/모두를 위한 ChatGPT UP! VOD_3강 - Auto GPT 유용하게 만들기(문제점과 개선방안).mp4', '/home/kskim/summarygen/fastcampus_video/모두를 위한 ChatGPT UP! VOD_5강 - Q&A.mp4', '/home/kskim/summarygen/fastcampus_video/모두를 위한 ChatGPT UP! VOD_3강 - 텔레그램으로 채팅 화면 만들기(실습).mp4', '/home/kskim/summarygen/fastcampus_video/모두를 위한 ChatGPT UP! VOD_1강 - ChatGPT 이해를 위한 AI 기본과 기술의 흐름.mp4', '/home/kskim/summarygen/fastcampus_video/모두를 위한 ChatGPT UP! VOD_OT.mp4', '/home/kskim/summarygen/fastcampus_video/모두를 위한 ChatGPT UP! VOD_(보충)Langchain 보충 영상.mp4', '/home/kskim/summarygen/fastcampus_video/모두를 위한 ChatGPT UP! VOD_1강 - GPT에게 일을 시키기 전에-LLM특성 이해하기.mp4']\n"
     ]
    }
   ],
   "source": [
    "import glob\n",
    "\n",
    "# Usage example\n",
    "def get_mp4_files(path):\n",
    "    mp4_files = glob.glob(path + \"/*.mp4\")\n",
    "    return mp4_files\n",
    "\n",
    "# 사용 예시\n",
    "file_paths = get_mp4_files(\"/home/kskim/summarygen/fastcampus_video\")\n",
    "print(file_paths)\n",
    "chunk_size = 10  # in minutes\n",
    "\n",
    "def process_multiple_files(file_paths, chunk_size):\n",
    "    for file_path in file_paths:\n",
    "        # Extract audio from video\n",
    "        audio_path = os.path.splitext(os.path.basename(file_path))[0] + \".mp3\"\n",
    "        extract_audio_from_video(file_path, audio_path)\n",
    "        \n",
    "        # Get the original file name without extension\n",
    "        file_name = os.path.splitext(os.path.basename(file_path))[0]\n",
    "        \n",
    "        # Create chunks folder if it doesn't exist\n",
    "        chunks_folder = f\"{file_name}_chunks\"\n",
    "        if not os.path.exists(chunks_folder):\n",
    "            os.makedirs(chunks_folder)\n",
    "        \n",
    "        # Cut audio into chunks\n",
    "        cut_audio_in_chunks(audio_path, chunk_size, chunks_folder)\n",
    "        \n",
    "        # Transcribe chunks\n",
    "        transcribe_chunks(chunks_folder, file_name)\n",
    "        \n",
    "        # Remove temporary audio file\n",
    "        os.remove(audio_path)"
   ]
  },
  {
   "cell_type": "code",
   "execution_count": null,
   "metadata": {},
   "outputs": [],
   "source": [
    "process_multiple_files(file_paths, chunk_size)\n"
   ]
  }
 ],
 "metadata": {
  "kernelspec": {
   "display_name": "lc",
   "language": "python",
   "name": "python3"
  },
  "language_info": {
   "codemirror_mode": {
    "name": "ipython",
    "version": 3
   },
   "file_extension": ".py",
   "mimetype": "text/x-python",
   "name": "python",
   "nbconvert_exporter": "python",
   "pygments_lexer": "ipython3",
   "version": "3.11.7"
  }
 },
 "nbformat": 4,
 "nbformat_minor": 2
}
