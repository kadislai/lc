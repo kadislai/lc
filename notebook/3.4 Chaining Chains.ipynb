{
 "cells": [
  {
   "cell_type": "code",
   "execution_count": 12,
   "metadata": {},
   "outputs": [],
   "source": [
    "from langchain.chat_models import ChatOpenAI\n",
    "from langchain.prompts import ChatPromptTemplate\n",
    "from langchain.callbacks import StreamingStdOutCallbackHandler\n",
    "\n",
    "chat = ChatOpenAI(\n",
    "    temperature=0.1, \n",
    "    streaming=True,\n",
    "    callbacks=[\n",
    "        StreamingStdOutCallbackHandler()\n",
    "    ]\n",
    ")\n",
    "\n",
    "chef_prompt = ChatPromptTemplate.from_messages([\n",
    "    (\"system\", \"You are a world-class international chef. You create easy to follow recipies for any type of cuisine with easy to find ingredients.\"),\n",
    "    (\"human\", \"I want to cook {cuisine} food.\")\n",
    "])\n",
    "\n",
    "chef_chain = chef_prompt | chat"
   ]
  },
  {
   "cell_type": "code",
   "execution_count": 13,
   "metadata": {},
   "outputs": [
    {
     "name": "stdout",
     "output_type": "stream",
     "text": [
      "Great choice! Indian cuisine is known for its rich flavors and aromatic spices. Here's a recipe for a classic Indian dish called Chicken Tikka Masala:\n",
      "\n",
      "Ingredients:\n",
      "- 500g boneless chicken, cut into bite-sized pieces\n",
      "- 1 cup plain yogurt\n",
      "- 2 tablespoons lemon juice\n",
      "- 2 tablespoons vegetable oil\n",
      "- 1 large onion, finely chopped\n",
      "- 3 cloves of garlic, minced\n",
      "- 1-inch piece of ginger, grated\n",
      "- 2 teaspoons ground cumin\n",
      "- 2 teaspoons ground coriander\n",
      "- 1 teaspoon turmeric powder\n",
      "- 1 teaspoon paprika\n",
      "- 1 teaspoon garam masala\n",
      "- 1 teaspoon chili powder (adjust to taste)\n",
      "- 1 cup tomato puree\n",
      "- 1 cup heavy cream\n",
      "- Salt, to taste\n",
      "- Fresh cilantro, chopped (for garnish)\n",
      "\n",
      "Instructions:\n",
      "1. In a bowl, combine the yogurt, lemon juice, 1 teaspoon of cumin, 1 teaspoon of coriander, turmeric powder, paprika, and chili powder. Add the chicken pieces and mix well. Marinate for at least 1 hour, or overnight in the refrigerator for better flavor.\n",
      "\n",
      "2. Preheat your grill or oven to medium-high heat. If using a grill, thread the marinated chicken onto skewers. If using an oven, place the chicken on a baking sheet lined with parchment paper. Cook the chicken until it is slightly charred and cooked through, about 10-12 minutes on each side.\n",
      "\n",
      "3. In a large pan, heat the vegetable oil over medium heat. Add the chopped onion and cook until it becomes translucent, about 5 minutes. Add the minced garlic and grated ginger, and cook for another 2 minutes.\n",
      "\n",
      "4. Add the remaining cumin, coriander, garam masala, and tomato puree to the pan. Stir well and cook for 5 minutes, allowing the flavors to meld together.\n",
      "\n",
      "5. Reduce the heat to low and add the cooked chicken pieces to the pan. Stir to coat the chicken with the sauce. Cook for an additional 5 minutes, allowing the flavors to infuse.\n",
      "\n",
      "6. Pour in the heavy cream and season with salt to taste. Simmer for another 5 minutes, stirring occasionally.\n",
      "\n",
      "7. Garnish with freshly chopped cilantro and serve hot with steamed rice or naan bread.\n",
      "\n",
      "Enjoy your homemade Chicken Tikka Masala, a popular Indian dish loved by many!To make a vegetarian version of Chicken Tikka Masala, you can replace the chicken with a plant-based protein such as tofu or tempeh. Here's how you can modify the recipe:\n",
      "\n",
      "Ingredients:\n",
      "- 500g firm tofu or tempeh, cut into bite-sized pieces\n",
      "- 1 cup plain yogurt (use dairy-free yogurt for a vegan version)\n",
      "- 2 tablespoons lemon juice\n",
      "- 2 tablespoons vegetable oil\n",
      "- 1 large onion, finely chopped\n",
      "- 3 cloves of garlic, minced\n",
      "- 1-inch piece of ginger, grated\n",
      "- 2 teaspoons ground cumin\n",
      "- 2 teaspoons ground coriander\n",
      "- 1 teaspoon turmeric powder\n",
      "- 1 teaspoon paprika\n",
      "- 1 teaspoon garam masala\n",
      "- 1 teaspoon chili powder (adjust to taste)\n",
      "- 1 cup tomato puree\n",
      "- 1 cup coconut cream (or dairy-free heavy cream substitute)\n",
      "- Salt, to taste\n",
      "- Fresh cilantro, chopped (for garnish)\n",
      "\n",
      "Instructions:\n",
      "1. In a bowl, combine the yogurt, lemon juice, 1 teaspoon of cumin, 1 teaspoon of coriander, turmeric powder, paprika, and chili powder. Add the tofu or tempeh pieces and mix well. Marinate for at least 1 hour, or overnight in the refrigerator for better flavor.\n",
      "\n",
      "2. Preheat your grill or oven to medium-high heat. If using a grill, thread the marinated tofu or tempeh onto skewers. If using an oven, place the tofu or tempeh on a baking sheet lined with parchment paper. Cook until slightly charred and heated through, about 10-12 minutes on each side.\n",
      "\n",
      "3. In a large pan, heat the vegetable oil over medium heat. Add the chopped onion and cook until it becomes translucent, about 5 minutes. Add the minced garlic and grated ginger, and cook for another 2 minutes.\n",
      "\n",
      "4. Add the remaining cumin, coriander, garam masala, and tomato puree to the pan. Stir well and cook for 5 minutes, allowing the flavors to meld together.\n",
      "\n",
      "5. Reduce the heat to low and add the cooked tofu or tempeh pieces to the pan. Stir to coat the protein with the sauce. Cook for an additional 5 minutes, allowing the flavors to infuse.\n",
      "\n",
      "6. Pour in the coconut cream (or dairy-free heavy cream substitute) and season with salt to taste. Simmer for another 5 minutes, stirring occasionally.\n",
      "\n",
      "7. Garnish with freshly chopped cilantro and serve hot with steamed rice or naan bread.\n",
      "\n",
      "Enjoy your vegetarian version of Chicken Tikka Masala!"
     ]
    },
    {
     "data": {
      "text/plain": [
       "AIMessageChunk(content=\"To make a vegetarian version of Chicken Tikka Masala, you can replace the chicken with a plant-based protein such as tofu or tempeh. Here's how you can modify the recipe:\\n\\nIngredients:\\n- 500g firm tofu or tempeh, cut into bite-sized pieces\\n- 1 cup plain yogurt (use dairy-free yogurt for a vegan version)\\n- 2 tablespoons lemon juice\\n- 2 tablespoons vegetable oil\\n- 1 large onion, finely chopped\\n- 3 cloves of garlic, minced\\n- 1-inch piece of ginger, grated\\n- 2 teaspoons ground cumin\\n- 2 teaspoons ground coriander\\n- 1 teaspoon turmeric powder\\n- 1 teaspoon paprika\\n- 1 teaspoon garam masala\\n- 1 teaspoon chili powder (adjust to taste)\\n- 1 cup tomato puree\\n- 1 cup coconut cream (or dairy-free heavy cream substitute)\\n- Salt, to taste\\n- Fresh cilantro, chopped (for garnish)\\n\\nInstructions:\\n1. In a bowl, combine the yogurt, lemon juice, 1 teaspoon of cumin, 1 teaspoon of coriander, turmeric powder, paprika, and chili powder. Add the tofu or tempeh pieces and mix well. Marinate for at least 1 hour, or overnight in the refrigerator for better flavor.\\n\\n2. Preheat your grill or oven to medium-high heat. If using a grill, thread the marinated tofu or tempeh onto skewers. If using an oven, place the tofu or tempeh on a baking sheet lined with parchment paper. Cook until slightly charred and heated through, about 10-12 minutes on each side.\\n\\n3. In a large pan, heat the vegetable oil over medium heat. Add the chopped onion and cook until it becomes translucent, about 5 minutes. Add the minced garlic and grated ginger, and cook for another 2 minutes.\\n\\n4. Add the remaining cumin, coriander, garam masala, and tomato puree to the pan. Stir well and cook for 5 minutes, allowing the flavors to meld together.\\n\\n5. Reduce the heat to low and add the cooked tofu or tempeh pieces to the pan. Stir to coat the protein with the sauce. Cook for an additional 5 minutes, allowing the flavors to infuse.\\n\\n6. Pour in the coconut cream (or dairy-free heavy cream substitute) and season with salt to taste. Simmer for another 5 minutes, stirring occasionally.\\n\\n7. Garnish with freshly chopped cilantro and serve hot with steamed rice or naan bread.\\n\\nEnjoy your vegetarian version of Chicken Tikka Masala!\")"
      ]
     },
     "execution_count": 13,
     "metadata": {},
     "output_type": "execute_result"
    }
   ],
   "source": [
    "veg_chef_prompt = ChatPromptTemplate.from_messages([\n",
    "    (\"system\", \"You are a vegetarian chef specialized on making traditional recipies vegetarian. You find alternative ingredients and explain their preparation. You don't radically modify the recipe. If there is no alternative for a food just say you don't know how to replace it.\"),\n",
    "    (\"human\", \"{recipe}\")\n",
    "])\n",
    "\n",
    "veg_chain = veg_chef_prompt | chat\n",
    "\n",
    "final_chain = {\"recipe\": chef_chain } | veg_chain\n",
    "\n",
    "final_chain.invoke({\n",
    "    \"cuisine\": \"indian\",\n",
    "})"
   ]
  },
  {
   "cell_type": "code",
   "execution_count": null,
   "metadata": {},
   "outputs": [],
   "source": []
  }
 ],
 "metadata": {
  "kernelspec": {
   "display_name": "lc",
   "language": "python",
   "name": "python3"
  },
  "language_info": {
   "codemirror_mode": {
    "name": "ipython",
    "version": 3
   },
   "file_extension": ".py",
   "mimetype": "text/x-python",
   "name": "python",
   "nbconvert_exporter": "python",
   "pygments_lexer": "ipython3",
   "version": "3.11.7"
  },
  "orig_nbformat": 4
 },
 "nbformat": 4,
 "nbformat_minor": 2
}
